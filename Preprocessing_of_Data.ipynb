{
  "nbformat": 4,
  "nbformat_minor": 0,
  "metadata": {
    "colab": {
      "name": "Preprocessing of Data",
      "provenance": [],
      "collapsed_sections": []
    },
    "kernelspec": {
      "name": "python3",
      "display_name": "Python 3"
    }
  },
  "cells": [
    {
      "cell_type": "code",
      "metadata": {
        "id": "QUtoFH0aaGLT",
        "colab": {
          "base_uri": "https://localhost:8080/"
        },
        "outputId": "fc574443-59c6-44f5-9d81-316dfc269a6e"
      },
      "source": [
        "pip install numpy"
      ],
      "execution_count": 43,
      "outputs": [
        {
          "output_type": "stream",
          "text": [
            "Requirement already satisfied: numpy in /usr/local/lib/python3.6/dist-packages (1.18.5)\n"
          ],
          "name": "stdout"
        }
      ]
    },
    {
      "cell_type": "code",
      "metadata": {
        "id": "Yz2MjAJv_J3x"
      },
      "source": [
        "from google.colab import drive,files"
      ],
      "execution_count": 44,
      "outputs": []
    },
    {
      "cell_type": "code",
      "metadata": {
        "id": "o445Y8YMaSmQ",
        "colab": {
          "base_uri": "https://localhost:8080/"
        },
        "outputId": "5b2bbf10-282c-4f55-c712-4cead42dfee3"
      },
      "source": [
        "drive.mount('/content/gdrive')"
      ],
      "execution_count": 45,
      "outputs": [
        {
          "output_type": "stream",
          "text": [
            "Drive already mounted at /content/gdrive; to attempt to forcibly remount, call drive.mount(\"/content/gdrive\", force_remount=True).\n"
          ],
          "name": "stdout"
        }
      ]
    },
    {
      "cell_type": "code",
      "metadata": {
        "colab": {
          "base_uri": "https://localhost:8080/",
          "height": 35
        },
        "id": "qjJUPUSdctfu",
        "outputId": "14031383-eef4-4233-9948-d69173b7ceda"
      },
      "source": [
        "'''\n",
        "import os\n",
        "for x in os.listdir('/content/gdrive/MyDrive/Major Project/FaceRecDataset/FaceRecDataset'):\n",
        "  print (x)\n",
        "'''\n"
      ],
      "execution_count": 46,
      "outputs": [
        {
          "output_type": "execute_result",
          "data": {
            "application/vnd.google.colaboratory.intrinsic+json": {
              "type": "string"
            },
            "text/plain": [
              "\"\\nimport os\\nfor x in os.listdir('/content/gdrive/MyDrive/Major Project/FaceRecDataset/FaceRecDataset'):\\n  print (x)\\n\""
            ]
          },
          "metadata": {
            "tags": []
          },
          "execution_count": 46
        }
      ]
    },
    {
      "cell_type": "code",
      "metadata": {
        "colab": {
          "base_uri": "https://localhost:8080/"
        },
        "id": "Pin9hIRm9CBr",
        "outputId": "1e88e659-d3a0-448c-ded6-9957fdcb7c8c"
      },
      "source": [
        "pip install keras"
      ],
      "execution_count": 47,
      "outputs": [
        {
          "output_type": "stream",
          "text": [
            "Requirement already satisfied: keras in /usr/local/lib/python3.6/dist-packages (2.4.3)\n",
            "Requirement already satisfied: numpy>=1.9.1 in /usr/local/lib/python3.6/dist-packages (from keras) (1.18.5)\n",
            "Requirement already satisfied: scipy>=0.14 in /usr/local/lib/python3.6/dist-packages (from keras) (1.4.1)\n",
            "Requirement already satisfied: h5py in /usr/local/lib/python3.6/dist-packages (from keras) (2.10.0)\n",
            "Requirement already satisfied: pyyaml in /usr/local/lib/python3.6/dist-packages (from keras) (3.13)\n",
            "Requirement already satisfied: six in /usr/local/lib/python3.6/dist-packages (from h5py->keras) (1.15.0)\n"
          ],
          "name": "stdout"
        }
      ]
    },
    {
      "cell_type": "code",
      "metadata": {
        "id": "FGHsUlbpdnKr"
      },
      "source": [
        "import cv2\n",
        "import os\n",
        "import numpy as np\n",
        "import matplotlib.pyplot as plt\n",
        "from PIL import Image\n",
        "\n",
        "path = '/content/gdrive/MyDrive/Major Project/FaceRecDataset/FaceRecDataset'\n",
        "\n"
      ],
      "execution_count": 65,
      "outputs": []
    },
    {
      "cell_type": "code",
      "metadata": {
        "colab": {
          "base_uri": "https://localhost:8080/"
        },
        "id": "Y-2zJeuweg4f",
        "outputId": "fff3f4d6-ae82-4ad4-d86b-c17cb599612a"
      },
      "source": [
        "people=os.listdir(path)\n",
        "people"
      ],
      "execution_count": 66,
      "outputs": [
        {
          "output_type": "execute_result",
          "data": {
            "text/plain": [
              "['madonna',\n",
              " 'jerry_seinfeld',\n",
              " 'Pranav',\n",
              " 'Ananya',\n",
              " 'Neha',\n",
              " 'Matthew Perry',\n",
              " 'mindy_kaling',\n",
              " 'Lisa Kudrow',\n",
              " 'Jennifer Aniston',\n",
              " 'ben_afflek',\n",
              " 'elton_john',\n",
              " 'Courteney Cox',\n",
              " 'Cherry',\n",
              " 'Divit']"
            ]
          },
          "metadata": {
            "tags": []
          },
          "execution_count": 66
        }
      ]
    },
    {
      "cell_type": "code",
      "metadata": {
        "colab": {
          "base_uri": "https://localhost:8080/"
        },
        "id": "zNy2u3LIeqbm",
        "outputId": "0b305ebd-3913-4246-8f6a-5ef4d52a2ed2"
      },
      "source": [
        "label_dict = {}\n",
        "for i in range(len(people)):\n",
        "    label_dict[people[i]]=i\n",
        "label_dict\n",
        "#files.download(label_dict)"
      ],
      "execution_count": 69,
      "outputs": [
        {
          "output_type": "execute_result",
          "data": {
            "text/plain": [
              "{'Ananya': 3,\n",
              " 'Cherry': 12,\n",
              " 'Courteney Cox': 11,\n",
              " 'Divit': 13,\n",
              " 'Jennifer Aniston': 8,\n",
              " 'Lisa Kudrow': 7,\n",
              " 'Matthew Perry': 5,\n",
              " 'Neha': 4,\n",
              " 'Pranav': 2,\n",
              " 'ben_afflek': 9,\n",
              " 'elton_john': 10,\n",
              " 'jerry_seinfeld': 1,\n",
              " 'madonna': 0,\n",
              " 'mindy_kaling': 6}"
            ]
          },
          "metadata": {
            "tags": []
          },
          "execution_count": 69
        }
      ]
    },
    {
      "cell_type": "markdown",
      "metadata": {
        "id": "OStkizDroxga"
      },
      "source": [
        "**Face Cropping**"
      ]
    },
    {
      "cell_type": "code",
      "metadata": {
        "id": "wDcNnJfYo1WX"
      },
      "source": [
        "\n",
        "\n",
        "def GetFace(img_path):\n",
        "  \n",
        "\n",
        "  img = cv2.imread(img_path)\n",
        "\n",
        "  gray=cv2.cvtColor(img,cv2.COLOR_BGR2GRAY)\n",
        "  face_cascade = cv2.CascadeClassifier('/content/gdrive/MyDrive/Major Project/HaarcascadeClassifier/haarcascade_frontalface_default.xml')\n",
        "  faces=face_cascade.detectMultiScale(gray,1.3,5)  \n",
        "\n",
        "  temp1=30\n",
        "  temp2=70\n",
        "\n",
        "  #if face == null return 0\n",
        "\n",
        "  for (x,y,w,h) in faces:\n",
        "\n",
        "    x=x-temp1\n",
        "    y=y-temp1\n",
        "    w=w+temp2\n",
        "    h=h+temp2\n",
        "    \n",
        "    face_img=img[y:y+w,x:x+w]\n",
        "\n",
        "    #resizing 3d image\n",
        "    #resized=cv2.resize(image,(200,200), interpolation=cv2.INTER_CUBIC)\n",
        "    \n",
        "    return face_img\n"
      ],
      "execution_count": 82,
      "outputs": []
    },
    {
      "cell_type": "markdown",
      "metadata": {
        "id": "ayOSjvB7qEBC"
      },
      "source": [
        "**Data generation**\n"
      ]
    },
    {
      "cell_type": "code",
      "metadata": {
        "colab": {
          "base_uri": "https://localhost:8080/"
        },
        "id": "nubWWIyDkqOF",
        "outputId": "a3d43048-40a9-47df-f5a8-9dab4a347a1f"
      },
      "source": [
        "\n",
        "data=[]\n",
        "target=[]\n",
        "\n",
        "img_size=200\n",
        "img_channels=3\n",
        "\n",
        "\n",
        "for person in people:\n",
        "  new_path = path+\"/\"+person\n",
        "    \n",
        "  #iterate over all the images\n",
        "  for image_name in os.listdir(new_path):\n",
        "      image_path= new_path+\"/\"+image_name\n",
        "      #img=cv2.imread(image_path)\n",
        "\n",
        "      \n",
        "      \n",
        "      try:\n",
        "        \n",
        "        img = GetFace(image_path)\n",
        "\n",
        "        #covert image into gray scale \n",
        "        #gray_img=cv2.cvtColor(img, cv2.COLOR_BGR2GRAY)\n",
        "        \n",
        "        #resize all th images into constant size X size to get a consistent input for our model\n",
        "        resized_img=cv2.resize(img,(200,200), interpolation=cv2.INTER_CUBIC)\n",
        "\n",
        "        #new_img = GetFace(resized_img)\n",
        "\n",
        "        \n",
        "        #appending image and its category to a dataset array \n",
        "        data.append(resized_img)\n",
        "        target.append(label_dict[person])\n",
        "\n",
        "    \n",
        "      except Exception as e:\n",
        "        #if there is any issue with an img then the exception is raised here and code moves over to the next image\n",
        "        print('image_name : ',image_name)\n",
        "        print('image_path : ',image_path)\n",
        "        print('path : ',path)\n",
        "        print('Caught an exception while converting and adding image to dataset :',e)\n",
        "\n"
      ],
      "execution_count": 90,
      "outputs": [
        {
          "output_type": "stream",
          "text": [
            "image_name :  httpssmediacacheakpinimgcomxaaeaaeecccaedfebdbjpg.jpg\n",
            "image_path :  /content/gdrive/MyDrive/Major Project/FaceRecDataset/FaceRecDataset/madonna/httpssmediacacheakpinimgcomxaaeaaeecccaedfebdbjpg.jpg\n",
            "path :  /content/gdrive/MyDrive/Major Project/FaceRecDataset/FaceRecDataset\n",
            "Caught an exception while converting and adding image to dataset : OpenCV(4.1.2) /io/opencv/modules/imgproc/src/resize.cpp:3720: error: (-215:Assertion failed) !ssize.empty() in function 'resize'\n",
            "\n",
            "image_name :  httpssmediacacheakpinimgcomxafafedebcbjpg.jpg\n",
            "image_path :  /content/gdrive/MyDrive/Major Project/FaceRecDataset/FaceRecDataset/madonna/httpssmediacacheakpinimgcomxafafedebcbjpg.jpg\n",
            "path :  /content/gdrive/MyDrive/Major Project/FaceRecDataset/FaceRecDataset\n",
            "Caught an exception while converting and adding image to dataset : OpenCV(4.1.2) /io/opencv/modules/imgproc/src/resize.cpp:3720: error: (-215:Assertion failed) !ssize.empty() in function 'resize'\n",
            "\n",
            "image_name :  httpssmediacacheakpinimgcomxfeebfdccajpg.jpg\n",
            "image_path :  /content/gdrive/MyDrive/Major Project/FaceRecDataset/FaceRecDataset/madonna/httpssmediacacheakpinimgcomxfeebfdccajpg.jpg\n",
            "path :  /content/gdrive/MyDrive/Major Project/FaceRecDataset/FaceRecDataset\n",
            "Caught an exception while converting and adding image to dataset : OpenCV(4.1.2) /io/opencv/modules/imgproc/src/resize.cpp:3720: error: (-215:Assertion failed) !ssize.empty() in function 'resize'\n",
            "\n",
            "image_name :  httpimagesrottentomatoescomimagesspotlightsnewsjerryseinfeldjpg.jpg\n",
            "image_path :  /content/gdrive/MyDrive/Major Project/FaceRecDataset/FaceRecDataset/jerry_seinfeld/httpimagesrottentomatoescomimagesspotlightsnewsjerryseinfeldjpg.jpg\n",
            "path :  /content/gdrive/MyDrive/Major Project/FaceRecDataset/FaceRecDataset\n",
            "Caught an exception while converting and adding image to dataset : OpenCV(4.1.2) /io/opencv/modules/imgproc/src/resize.cpp:3720: error: (-215:Assertion failed) !ssize.empty() in function 'resize'\n",
            "\n",
            "image_name :  httpstatictherichestimagescomcdncwpcontentuploadsJerrySeinfeldjpg.jpg\n",
            "image_path :  /content/gdrive/MyDrive/Major Project/FaceRecDataset/FaceRecDataset/jerry_seinfeld/httpstatictherichestimagescomcdncwpcontentuploadsJerrySeinfeldjpg.jpg\n",
            "path :  /content/gdrive/MyDrive/Major Project/FaceRecDataset/FaceRecDataset\n",
            "Caught an exception while converting and adding image to dataset : OpenCV(4.1.2) /io/opencv/modules/imgproc/src/resize.cpp:3720: error: (-215:Assertion failed) !ssize.empty() in function 'resize'\n",
            "\n",
            "image_name :  IMG_20201128_100027__01.jpg\n",
            "image_path :  /content/gdrive/MyDrive/Major Project/FaceRecDataset/FaceRecDataset/Pranav/IMG_20201128_100027__01.jpg\n",
            "path :  /content/gdrive/MyDrive/Major Project/FaceRecDataset/FaceRecDataset\n",
            "Caught an exception while converting and adding image to dataset : OpenCV(4.1.2) /io/opencv/modules/imgproc/src/resize.cpp:3720: error: (-215:Assertion failed) !ssize.empty() in function 'resize'\n",
            "\n",
            "image_name :  Screenshot_20201127-140831_Photos.jpg\n",
            "image_path :  /content/gdrive/MyDrive/Major Project/FaceRecDataset/FaceRecDataset/Neha/Screenshot_20201127-140831_Photos.jpg\n",
            "path :  /content/gdrive/MyDrive/Major Project/FaceRecDataset/FaceRecDataset\n",
            "Caught an exception while converting and adding image to dataset : OpenCV(4.1.2) /io/opencv/modules/imgproc/src/resize.cpp:3720: error: (-215:Assertion failed) !ssize.empty() in function 'resize'\n",
            "\n",
            "image_name :  6.jpeg\n",
            "image_path :  /content/gdrive/MyDrive/Major Project/FaceRecDataset/FaceRecDataset/Lisa Kudrow/6.jpeg\n",
            "path :  /content/gdrive/MyDrive/Major Project/FaceRecDataset/FaceRecDataset\n",
            "Caught an exception while converting and adding image to dataset : OpenCV(4.1.2) /io/opencv/modules/imgproc/src/resize.cpp:3720: error: (-215:Assertion failed) !ssize.empty() in function 'resize'\n",
            "\n",
            "image_name :  c.jpg\n",
            "image_path :  /content/gdrive/MyDrive/Major Project/FaceRecDataset/FaceRecDataset/Lisa Kudrow/c.jpg\n",
            "path :  /content/gdrive/MyDrive/Major Project/FaceRecDataset/FaceRecDataset\n",
            "Caught an exception while converting and adding image to dataset : OpenCV(4.1.2) /io/opencv/modules/imgproc/src/resize.cpp:3720: error: (-215:Assertion failed) !ssize.empty() in function 'resize'\n",
            "\n",
            "image_name :  d.jpg\n",
            "image_path :  /content/gdrive/MyDrive/Major Project/FaceRecDataset/FaceRecDataset/Lisa Kudrow/d.jpg\n",
            "path :  /content/gdrive/MyDrive/Major Project/FaceRecDataset/FaceRecDataset\n",
            "Caught an exception while converting and adding image to dataset : OpenCV(4.1.2) /io/opencv/modules/imgproc/src/resize.cpp:3720: error: (-215:Assertion failed) !ssize.empty() in function 'resize'\n",
            "\n",
            "image_name :  e.jpg\n",
            "image_path :  /content/gdrive/MyDrive/Major Project/FaceRecDataset/FaceRecDataset/Lisa Kudrow/e.jpg\n",
            "path :  /content/gdrive/MyDrive/Major Project/FaceRecDataset/FaceRecDataset\n",
            "Caught an exception while converting and adding image to dataset : OpenCV(4.1.2) /io/opencv/modules/imgproc/src/resize.cpp:3720: error: (-215:Assertion failed) !ssize.empty() in function 'resize'\n",
            "\n",
            "image_name :  6.jpeg\n",
            "image_path :  /content/gdrive/MyDrive/Major Project/FaceRecDataset/FaceRecDataset/Jennifer Aniston/6.jpeg\n",
            "path :  /content/gdrive/MyDrive/Major Project/FaceRecDataset/FaceRecDataset\n",
            "Caught an exception while converting and adding image to dataset : OpenCV(4.1.2) /io/opencv/modules/imgproc/src/resize.cpp:3720: error: (-215:Assertion failed) !ssize.empty() in function 'resize'\n",
            "\n",
            "image_name :  9.jpeg\n",
            "image_path :  /content/gdrive/MyDrive/Major Project/FaceRecDataset/FaceRecDataset/Jennifer Aniston/9.jpeg\n",
            "path :  /content/gdrive/MyDrive/Major Project/FaceRecDataset/FaceRecDataset\n",
            "Caught an exception while converting and adding image to dataset : OpenCV(4.1.2) /io/opencv/modules/imgproc/src/resize.cpp:3720: error: (-215:Assertion failed) !ssize.empty() in function 'resize'\n",
            "\n",
            "image_name :  httpssmediacacheakpinimgcomxeeedcacddeccccacfjpg.jpg\n",
            "image_path :  /content/gdrive/MyDrive/Major Project/FaceRecDataset/FaceRecDataset/ben_afflek/httpssmediacacheakpinimgcomxeeedcacddeccccacfjpg.jpg\n",
            "path :  /content/gdrive/MyDrive/Major Project/FaceRecDataset/FaceRecDataset\n",
            "Caught an exception while converting and adding image to dataset : OpenCV(4.1.2) /io/opencv/modules/imgproc/src/resize.cpp:3720: error: (-215:Assertion failed) !ssize.empty() in function 'resize'\n",
            "\n",
            "image_name :  httpssmediacacheakpinimgcomxdbbdbbbececacdecdcdfjpg.jpg\n",
            "image_path :  /content/gdrive/MyDrive/Major Project/FaceRecDataset/FaceRecDataset/ben_afflek/httpssmediacacheakpinimgcomxdbbdbbbececacdecdcdfjpg.jpg\n",
            "path :  /content/gdrive/MyDrive/Major Project/FaceRecDataset/FaceRecDataset\n",
            "Caught an exception while converting and adding image to dataset : OpenCV(4.1.2) /io/opencv/modules/imgproc/src/resize.cpp:3720: error: (-215:Assertion failed) !ssize.empty() in function 'resize'\n",
            "\n",
            "image_name :  httptrwebimgacstanetcxbdddmediasnmediajpg.jpg\n",
            "image_path :  /content/gdrive/MyDrive/Major Project/FaceRecDataset/FaceRecDataset/ben_afflek/httptrwebimgacstanetcxbdddmediasnmediajpg.jpg\n",
            "path :  /content/gdrive/MyDrive/Major Project/FaceRecDataset/FaceRecDataset\n",
            "Caught an exception while converting and adding image to dataset : OpenCV(4.1.2) /io/opencv/modules/imgproc/src/resize.cpp:3720: error: (-215:Assertion failed) !ssize.empty() in function 'resize'\n",
            "\n",
            "image_name :  httpwwwdeadlinecomvimgnetwpcontentuploadseltonjpg.jpg\n",
            "image_path :  /content/gdrive/MyDrive/Major Project/FaceRecDataset/FaceRecDataset/elton_john/httpwwwdeadlinecomvimgnetwpcontentuploadseltonjpg.jpg\n",
            "path :  /content/gdrive/MyDrive/Major Project/FaceRecDataset/FaceRecDataset\n",
            "Caught an exception while converting and adding image to dataset : OpenCV(4.1.2) /io/opencv/modules/imgproc/src/resize.cpp:3720: error: (-215:Assertion failed) !ssize.empty() in function 'resize'\n",
            "\n",
            "image_name :  httpsticketmnettmenusdamabbacdaebeafdbbCUSTOMjpg.jpg\n",
            "image_path :  /content/gdrive/MyDrive/Major Project/FaceRecDataset/FaceRecDataset/elton_john/httpsticketmnettmenusdamabbacdaebeafdbbCUSTOMjpg.jpg\n",
            "path :  /content/gdrive/MyDrive/Major Project/FaceRecDataset/FaceRecDataset\n",
            "Caught an exception while converting and adding image to dataset : OpenCV(4.1.2) /io/opencv/modules/imgproc/src/resize.cpp:3720: error: (-215:Assertion failed) !ssize.empty() in function 'resize'\n",
            "\n",
            "image_name :  httpssmediacacheakpinimgcomxfefdacfbfdeadajpg.jpg\n",
            "image_path :  /content/gdrive/MyDrive/Major Project/FaceRecDataset/FaceRecDataset/elton_john/httpssmediacacheakpinimgcomxfefdacfbfdeadajpg.jpg\n",
            "path :  /content/gdrive/MyDrive/Major Project/FaceRecDataset/FaceRecDataset\n",
            "Caught an exception while converting and adding image to dataset : OpenCV(4.1.2) /io/opencv/modules/imgproc/src/resize.cpp:3720: error: (-215:Assertion failed) !ssize.empty() in function 'resize'\n",
            "\n",
            "image_name :  httpspmctvlinefileswordpresscomeltonjohnjpg.jpg\n",
            "image_path :  /content/gdrive/MyDrive/Major Project/FaceRecDataset/FaceRecDataset/elton_john/httpspmctvlinefileswordpresscomeltonjohnjpg.jpg\n",
            "path :  /content/gdrive/MyDrive/Major Project/FaceRecDataset/FaceRecDataset\n",
            "Caught an exception while converting and adding image to dataset : OpenCV(4.1.2) /io/opencv/modules/imgproc/src/resize.cpp:3720: error: (-215:Assertion failed) !ssize.empty() in function 'resize'\n",
            "\n",
            "image_name :  httpssmediacacheakpinimgcomxfecfecaefaadfebejpg.jpg\n",
            "image_path :  /content/gdrive/MyDrive/Major Project/FaceRecDataset/FaceRecDataset/elton_john/httpssmediacacheakpinimgcomxfecfecaefaadfebejpg.jpg\n",
            "path :  /content/gdrive/MyDrive/Major Project/FaceRecDataset/FaceRecDataset\n",
            "Caught an exception while converting and adding image to dataset : OpenCV(4.1.2) /io/opencv/modules/imgproc/src/resize.cpp:3720: error: (-215:Assertion failed) !ssize.empty() in function 'resize'\n",
            "\n",
            "image_name :  4.jpeg\n",
            "image_path :  /content/gdrive/MyDrive/Major Project/FaceRecDataset/FaceRecDataset/Courteney Cox/4.jpeg\n",
            "path :  /content/gdrive/MyDrive/Major Project/FaceRecDataset/FaceRecDataset\n",
            "Caught an exception while converting and adding image to dataset : OpenCV(4.1.2) /io/opencv/modules/imgproc/src/resize.cpp:3720: error: (-215:Assertion failed) !ssize.empty() in function 'resize'\n",
            "\n",
            "image_name :  10.jpeg\n",
            "image_path :  /content/gdrive/MyDrive/Major Project/FaceRecDataset/FaceRecDataset/Courteney Cox/10.jpeg\n",
            "path :  /content/gdrive/MyDrive/Major Project/FaceRecDataset/FaceRecDataset\n",
            "Caught an exception while converting and adding image to dataset : OpenCV(4.1.2) /io/opencv/modules/imgproc/src/resize.cpp:3720: error: (-215:Assertion failed) !ssize.empty() in function 'resize'\n",
            "\n",
            "image_name :  IMG_0592.jpeg\n",
            "image_path :  /content/gdrive/MyDrive/Major Project/FaceRecDataset/FaceRecDataset/Divit/IMG_0592.jpeg\n",
            "path :  /content/gdrive/MyDrive/Major Project/FaceRecDataset/FaceRecDataset\n",
            "Caught an exception while converting and adding image to dataset : OpenCV(4.1.2) /io/opencv/modules/imgproc/src/resize.cpp:3720: error: (-215:Assertion failed) !ssize.empty() in function 'resize'\n",
            "\n",
            "image_name :  IMG_20200216_111015_Original.jpeg\n",
            "image_path :  /content/gdrive/MyDrive/Major Project/FaceRecDataset/FaceRecDataset/Divit/IMG_20200216_111015_Original.jpeg\n",
            "path :  /content/gdrive/MyDrive/Major Project/FaceRecDataset/FaceRecDataset\n",
            "Caught an exception while converting and adding image to dataset : OpenCV(4.1.2) /io/opencv/modules/imgproc/src/resize.cpp:3720: error: (-215:Assertion failed) !ssize.empty() in function 'resize'\n",
            "\n"
          ],
          "name": "stdout"
        }
      ]
    },
    {
      "cell_type": "code",
      "metadata": {
        "id": "lbVk-kvTlJfy"
      },
      "source": [
        "#target\n",
        "#data[0]"
      ],
      "execution_count": 91,
      "outputs": []
    },
    {
      "cell_type": "code",
      "metadata": {
        "id": "1GczU5bOlaQx"
      },
      "source": [
        "\n",
        "#narmalised data to be in range of 0 to 1\n",
        "np_data=np.array(data)/255.0\n",
        "np_data=np.reshape(np_data,(np_data.shape[0],img_size, img_size, img_channels))\n",
        "np_target=np.array(target)\n",
        "#Convert 1d array to categorical data\n",
        "from keras.utils import np_utils\n",
        "np_target=np_utils.to_categorical(np_target)"
      ],
      "execution_count": 92,
      "outputs": []
    },
    {
      "cell_type": "code",
      "metadata": {
        "id": "zIguu89F9GRq"
      },
      "source": [
        "#print (np_data.shape)\n",
        "#print (np_target.shape)"
      ],
      "execution_count": 97,
      "outputs": []
    },
    {
      "cell_type": "code",
      "metadata": {
        "id": "jm6erD0P9JvX"
      },
      "source": [
        "np.save('preprocessed_data_for_face_mask',np_data)\n",
        "np.save('preprocessed_target_for_face_mask',np_target)"
      ],
      "execution_count": 118,
      "outputs": []
    },
    {
      "cell_type": "code",
      "metadata": {
        "colab": {
          "base_uri": "https://localhost:8080/",
          "height": 17
        },
        "id": "cJg8ZyGD-OWZ",
        "outputId": "c59fa098-391b-40eb-ed06-efb324e8c58a"
      },
      "source": [
        "files.download('preprocessed_data_for_face_mask.npy')"
      ],
      "execution_count": 119,
      "outputs": [
        {
          "output_type": "display_data",
          "data": {
            "application/javascript": [
              "\n",
              "    async function download(id, filename, size) {\n",
              "      if (!google.colab.kernel.accessAllowed) {\n",
              "        return;\n",
              "      }\n",
              "      const div = document.createElement('div');\n",
              "      const label = document.createElement('label');\n",
              "      label.textContent = `Downloading \"${filename}\": `;\n",
              "      div.appendChild(label);\n",
              "      const progress = document.createElement('progress');\n",
              "      progress.max = size;\n",
              "      div.appendChild(progress);\n",
              "      document.body.appendChild(div);\n",
              "\n",
              "      const buffers = [];\n",
              "      let downloaded = 0;\n",
              "\n",
              "      const channel = await google.colab.kernel.comms.open(id);\n",
              "      // Send a message to notify the kernel that we're ready.\n",
              "      channel.send({})\n",
              "\n",
              "      for await (const message of channel.messages) {\n",
              "        // Send a message to notify the kernel that we're ready.\n",
              "        channel.send({})\n",
              "        if (message.buffers) {\n",
              "          for (const buffer of message.buffers) {\n",
              "            buffers.push(buffer);\n",
              "            downloaded += buffer.byteLength;\n",
              "            progress.value = downloaded;\n",
              "          }\n",
              "        }\n",
              "      }\n",
              "      const blob = new Blob(buffers, {type: 'application/binary'});\n",
              "      const a = document.createElement('a');\n",
              "      a.href = window.URL.createObjectURL(blob);\n",
              "      a.download = filename;\n",
              "      div.appendChild(a);\n",
              "      a.click();\n",
              "      div.remove();\n",
              "    }\n",
              "  "
            ],
            "text/plain": [
              "<IPython.core.display.Javascript object>"
            ]
          },
          "metadata": {
            "tags": []
          }
        },
        {
          "output_type": "display_data",
          "data": {
            "application/javascript": [
              "download(\"download_ac8422cd-c6d8-4fb3-b31c-aa45cf419ef3\", \"preprocessed_data_for_face_mask.npy\", 97920128)"
            ],
            "text/plain": [
              "<IPython.core.display.Javascript object>"
            ]
          },
          "metadata": {
            "tags": []
          }
        }
      ]
    },
    {
      "cell_type": "code",
      "metadata": {
        "colab": {
          "base_uri": "https://localhost:8080/",
          "height": 17
        },
        "id": "PXVP-9IsAML9",
        "outputId": "174634a6-b4dc-493d-8efa-0ec40304a0f1"
      },
      "source": [
        "files.download('preprocessed_target_for_face_mask.npy')"
      ],
      "execution_count": 120,
      "outputs": [
        {
          "output_type": "display_data",
          "data": {
            "application/javascript": [
              "\n",
              "    async function download(id, filename, size) {\n",
              "      if (!google.colab.kernel.accessAllowed) {\n",
              "        return;\n",
              "      }\n",
              "      const div = document.createElement('div');\n",
              "      const label = document.createElement('label');\n",
              "      label.textContent = `Downloading \"${filename}\": `;\n",
              "      div.appendChild(label);\n",
              "      const progress = document.createElement('progress');\n",
              "      progress.max = size;\n",
              "      div.appendChild(progress);\n",
              "      document.body.appendChild(div);\n",
              "\n",
              "      const buffers = [];\n",
              "      let downloaded = 0;\n",
              "\n",
              "      const channel = await google.colab.kernel.comms.open(id);\n",
              "      // Send a message to notify the kernel that we're ready.\n",
              "      channel.send({})\n",
              "\n",
              "      for await (const message of channel.messages) {\n",
              "        // Send a message to notify the kernel that we're ready.\n",
              "        channel.send({})\n",
              "        if (message.buffers) {\n",
              "          for (const buffer of message.buffers) {\n",
              "            buffers.push(buffer);\n",
              "            downloaded += buffer.byteLength;\n",
              "            progress.value = downloaded;\n",
              "          }\n",
              "        }\n",
              "      }\n",
              "      const blob = new Blob(buffers, {type: 'application/binary'});\n",
              "      const a = document.createElement('a');\n",
              "      a.href = window.URL.createObjectURL(blob);\n",
              "      a.download = filename;\n",
              "      div.appendChild(a);\n",
              "      a.click();\n",
              "      div.remove();\n",
              "    }\n",
              "  "
            ],
            "text/plain": [
              "<IPython.core.display.Javascript object>"
            ]
          },
          "metadata": {
            "tags": []
          }
        },
        {
          "output_type": "display_data",
          "data": {
            "application/javascript": [
              "download(\"download_8f4bb938-1376-434a-be99-2b8101ea6bb0\", \"preprocessed_target_for_face_mask.npy\", 5840)"
            ],
            "text/plain": [
              "<IPython.core.display.Javascript object>"
            ]
          },
          "metadata": {
            "tags": []
          }
        }
      ]
    },
    {
      "cell_type": "code",
      "metadata": {
        "id": "ZE2VgcphASJG"
      },
      "source": [
        "#print (len(np_data[0]))\n",
        "import pandas as pd\n",
        "df = pd.DataFrame(data=np_target)\n"
      ],
      "execution_count": 102,
      "outputs": []
    },
    {
      "cell_type": "code",
      "metadata": {
        "colab": {
          "base_uri": "https://localhost:8080/",
          "height": 891
        },
        "id": "YmbS4m0KB30f",
        "outputId": "3d6fcd0f-e0b4-49c3-8bc0-f21e8a9afebc"
      },
      "source": [
        "print(df)\n",
        "\n",
        "for i in range(len(df)):\n",
        "  for d in df[i]:\n",
        "    if d==1.0:\n",
        "      c=c+1\n",
        "  print (i,\" \",c)\n",
        "  c=0"
      ],
      "execution_count": 117,
      "outputs": [
        {
          "output_type": "stream",
          "text": [
            "      0    1    2    3    4    5    6    7    8    9    10   11   12   13\n",
            "0    1.0  0.0  0.0  0.0  0.0  0.0  0.0  0.0  0.0  0.0  0.0  0.0  0.0  0.0\n",
            "1    1.0  0.0  0.0  0.0  0.0  0.0  0.0  0.0  0.0  0.0  0.0  0.0  0.0  0.0\n",
            "2    1.0  0.0  0.0  0.0  0.0  0.0  0.0  0.0  0.0  0.0  0.0  0.0  0.0  0.0\n",
            "3    1.0  0.0  0.0  0.0  0.0  0.0  0.0  0.0  0.0  0.0  0.0  0.0  0.0  0.0\n",
            "4    1.0  0.0  0.0  0.0  0.0  0.0  0.0  0.0  0.0  0.0  0.0  0.0  0.0  0.0\n",
            "..   ...  ...  ...  ...  ...  ...  ...  ...  ...  ...  ...  ...  ...  ...\n",
            "97   0.0  0.0  0.0  0.0  0.0  0.0  0.0  0.0  0.0  0.0  0.0  0.0  0.0  1.0\n",
            "98   0.0  0.0  0.0  0.0  0.0  0.0  0.0  0.0  0.0  0.0  0.0  0.0  0.0  1.0\n",
            "99   0.0  0.0  0.0  0.0  0.0  0.0  0.0  0.0  0.0  0.0  0.0  0.0  0.0  1.0\n",
            "100  0.0  0.0  0.0  0.0  0.0  0.0  0.0  0.0  0.0  0.0  0.0  0.0  0.0  1.0\n",
            "101  0.0  0.0  0.0  0.0  0.0  0.0  0.0  0.0  0.0  0.0  0.0  0.0  0.0  1.0\n",
            "\n",
            "[102 rows x 14 columns]\n",
            "0   8\n",
            "1   13\n",
            "2   5\n",
            "3   8\n",
            "4   7\n",
            "5   8\n",
            "6   17\n",
            "7   2\n",
            "8   2\n",
            "9   6\n",
            "10   5\n",
            "11   8\n",
            "12   5\n",
            "13   8\n"
          ],
          "name": "stdout"
        },
        {
          "output_type": "error",
          "ename": "KeyError",
          "evalue": "ignored",
          "traceback": [
            "\u001b[0;31m---------------------------------------------------------------------------\u001b[0m",
            "\u001b[0;31mValueError\u001b[0m                                Traceback (most recent call last)",
            "\u001b[0;32m/usr/local/lib/python3.6/dist-packages/pandas/core/indexes/range.py\u001b[0m in \u001b[0;36mget_loc\u001b[0;34m(self, key, method, tolerance)\u001b[0m\n\u001b[1;32m    354\u001b[0m                 \u001b[0;32mtry\u001b[0m\u001b[0;34m:\u001b[0m\u001b[0;34m\u001b[0m\u001b[0;34m\u001b[0m\u001b[0m\n\u001b[0;32m--> 355\u001b[0;31m                     \u001b[0;32mreturn\u001b[0m \u001b[0mself\u001b[0m\u001b[0;34m.\u001b[0m\u001b[0m_range\u001b[0m\u001b[0;34m.\u001b[0m\u001b[0mindex\u001b[0m\u001b[0;34m(\u001b[0m\u001b[0mnew_key\u001b[0m\u001b[0;34m)\u001b[0m\u001b[0;34m\u001b[0m\u001b[0;34m\u001b[0m\u001b[0m\n\u001b[0m\u001b[1;32m    356\u001b[0m                 \u001b[0;32mexcept\u001b[0m \u001b[0mValueError\u001b[0m \u001b[0;32mas\u001b[0m \u001b[0merr\u001b[0m\u001b[0;34m:\u001b[0m\u001b[0;34m\u001b[0m\u001b[0;34m\u001b[0m\u001b[0m\n",
            "\u001b[0;31mValueError\u001b[0m: 14 is not in range",
            "\nThe above exception was the direct cause of the following exception:\n",
            "\u001b[0;31mKeyError\u001b[0m                                  Traceback (most recent call last)",
            "\u001b[0;32m<ipython-input-117-0444fa815c41>\u001b[0m in \u001b[0;36m<module>\u001b[0;34m()\u001b[0m\n\u001b[1;32m      2\u001b[0m \u001b[0;34m\u001b[0m\u001b[0m\n\u001b[1;32m      3\u001b[0m \u001b[0;32mfor\u001b[0m \u001b[0mi\u001b[0m \u001b[0;32min\u001b[0m \u001b[0mrange\u001b[0m\u001b[0;34m(\u001b[0m\u001b[0mlen\u001b[0m\u001b[0;34m(\u001b[0m\u001b[0mdf\u001b[0m\u001b[0;34m)\u001b[0m\u001b[0;34m)\u001b[0m\u001b[0;34m:\u001b[0m\u001b[0;34m\u001b[0m\u001b[0;34m\u001b[0m\u001b[0m\n\u001b[0;32m----> 4\u001b[0;31m   \u001b[0;32mfor\u001b[0m \u001b[0md\u001b[0m \u001b[0;32min\u001b[0m \u001b[0mdf\u001b[0m\u001b[0;34m[\u001b[0m\u001b[0mi\u001b[0m\u001b[0;34m]\u001b[0m\u001b[0;34m:\u001b[0m\u001b[0;34m\u001b[0m\u001b[0;34m\u001b[0m\u001b[0m\n\u001b[0m\u001b[1;32m      5\u001b[0m     \u001b[0;32mif\u001b[0m \u001b[0md\u001b[0m\u001b[0;34m==\u001b[0m\u001b[0;36m1.0\u001b[0m\u001b[0;34m:\u001b[0m\u001b[0;34m\u001b[0m\u001b[0;34m\u001b[0m\u001b[0m\n\u001b[1;32m      6\u001b[0m       \u001b[0mc\u001b[0m\u001b[0;34m=\u001b[0m\u001b[0mc\u001b[0m\u001b[0;34m+\u001b[0m\u001b[0;36m1\u001b[0m\u001b[0;34m\u001b[0m\u001b[0;34m\u001b[0m\u001b[0m\n",
            "\u001b[0;32m/usr/local/lib/python3.6/dist-packages/pandas/core/frame.py\u001b[0m in \u001b[0;36m__getitem__\u001b[0;34m(self, key)\u001b[0m\n\u001b[1;32m   2904\u001b[0m             \u001b[0;32mif\u001b[0m \u001b[0mself\u001b[0m\u001b[0;34m.\u001b[0m\u001b[0mcolumns\u001b[0m\u001b[0;34m.\u001b[0m\u001b[0mnlevels\u001b[0m \u001b[0;34m>\u001b[0m \u001b[0;36m1\u001b[0m\u001b[0;34m:\u001b[0m\u001b[0;34m\u001b[0m\u001b[0;34m\u001b[0m\u001b[0m\n\u001b[1;32m   2905\u001b[0m                 \u001b[0;32mreturn\u001b[0m \u001b[0mself\u001b[0m\u001b[0;34m.\u001b[0m\u001b[0m_getitem_multilevel\u001b[0m\u001b[0;34m(\u001b[0m\u001b[0mkey\u001b[0m\u001b[0;34m)\u001b[0m\u001b[0;34m\u001b[0m\u001b[0;34m\u001b[0m\u001b[0m\n\u001b[0;32m-> 2906\u001b[0;31m             \u001b[0mindexer\u001b[0m \u001b[0;34m=\u001b[0m \u001b[0mself\u001b[0m\u001b[0;34m.\u001b[0m\u001b[0mcolumns\u001b[0m\u001b[0;34m.\u001b[0m\u001b[0mget_loc\u001b[0m\u001b[0;34m(\u001b[0m\u001b[0mkey\u001b[0m\u001b[0;34m)\u001b[0m\u001b[0;34m\u001b[0m\u001b[0;34m\u001b[0m\u001b[0m\n\u001b[0m\u001b[1;32m   2907\u001b[0m             \u001b[0;32mif\u001b[0m \u001b[0mis_integer\u001b[0m\u001b[0;34m(\u001b[0m\u001b[0mindexer\u001b[0m\u001b[0;34m)\u001b[0m\u001b[0;34m:\u001b[0m\u001b[0;34m\u001b[0m\u001b[0;34m\u001b[0m\u001b[0m\n\u001b[1;32m   2908\u001b[0m                 \u001b[0mindexer\u001b[0m \u001b[0;34m=\u001b[0m \u001b[0;34m[\u001b[0m\u001b[0mindexer\u001b[0m\u001b[0;34m]\u001b[0m\u001b[0;34m\u001b[0m\u001b[0;34m\u001b[0m\u001b[0m\n",
            "\u001b[0;32m/usr/local/lib/python3.6/dist-packages/pandas/core/indexes/range.py\u001b[0m in \u001b[0;36mget_loc\u001b[0;34m(self, key, method, tolerance)\u001b[0m\n\u001b[1;32m    355\u001b[0m                     \u001b[0;32mreturn\u001b[0m \u001b[0mself\u001b[0m\u001b[0;34m.\u001b[0m\u001b[0m_range\u001b[0m\u001b[0;34m.\u001b[0m\u001b[0mindex\u001b[0m\u001b[0;34m(\u001b[0m\u001b[0mnew_key\u001b[0m\u001b[0;34m)\u001b[0m\u001b[0;34m\u001b[0m\u001b[0;34m\u001b[0m\u001b[0m\n\u001b[1;32m    356\u001b[0m                 \u001b[0;32mexcept\u001b[0m \u001b[0mValueError\u001b[0m \u001b[0;32mas\u001b[0m \u001b[0merr\u001b[0m\u001b[0;34m:\u001b[0m\u001b[0;34m\u001b[0m\u001b[0;34m\u001b[0m\u001b[0m\n\u001b[0;32m--> 357\u001b[0;31m                     \u001b[0;32mraise\u001b[0m \u001b[0mKeyError\u001b[0m\u001b[0;34m(\u001b[0m\u001b[0mkey\u001b[0m\u001b[0;34m)\u001b[0m \u001b[0;32mfrom\u001b[0m \u001b[0merr\u001b[0m\u001b[0;34m\u001b[0m\u001b[0;34m\u001b[0m\u001b[0m\n\u001b[0m\u001b[1;32m    358\u001b[0m             \u001b[0;32mraise\u001b[0m \u001b[0mKeyError\u001b[0m\u001b[0;34m(\u001b[0m\u001b[0mkey\u001b[0m\u001b[0;34m)\u001b[0m\u001b[0;34m\u001b[0m\u001b[0;34m\u001b[0m\u001b[0m\n\u001b[1;32m    359\u001b[0m         \u001b[0;32mreturn\u001b[0m \u001b[0msuper\u001b[0m\u001b[0;34m(\u001b[0m\u001b[0;34m)\u001b[0m\u001b[0;34m.\u001b[0m\u001b[0mget_loc\u001b[0m\u001b[0;34m(\u001b[0m\u001b[0mkey\u001b[0m\u001b[0;34m,\u001b[0m \u001b[0mmethod\u001b[0m\u001b[0;34m=\u001b[0m\u001b[0mmethod\u001b[0m\u001b[0;34m,\u001b[0m \u001b[0mtolerance\u001b[0m\u001b[0;34m=\u001b[0m\u001b[0mtolerance\u001b[0m\u001b[0;34m)\u001b[0m\u001b[0;34m\u001b[0m\u001b[0;34m\u001b[0m\u001b[0m\n",
            "\u001b[0;31mKeyError\u001b[0m: 14"
          ]
        }
      ]
    },
    {
      "cell_type": "code",
      "metadata": {
        "id": "JMXp7oI7Gkn8"
      },
      "source": [
        ""
      ],
      "execution_count": null,
      "outputs": []
    }
  ]
}